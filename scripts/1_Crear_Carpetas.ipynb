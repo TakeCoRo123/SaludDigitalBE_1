{
 "cells": [
  {
   "cell_type": "markdown",
   "id": "f2ab8fd5",
   "metadata": {},
   "source": [
    "Creación de carpetas"
   ]
  },
  {
   "cell_type": "code",
   "execution_count": 1,
   "id": "9a34c378",
   "metadata": {},
   "outputs": [
    {
     "name": "stdout",
     "output_type": "stream",
     "text": [
      "✅ Carpeta 'data' creada en: c:\\Users\\takes\\Documents\\SaludDigitalBE_1\\data\n",
      "✅ Carpeta 'database' creada en: c:\\Users\\takes\\Documents\\SaludDigitalBE_1\\database\n",
      "✅ Carpeta 'reports' creada en: c:\\Users\\takes\\Documents\\SaludDigitalBE_1\\reports\n",
      "✅ Carpeta 'ci' creada en: c:\\Users\\takes\\Documents\\SaludDigitalBE_1\\ci\n",
      "✅ Carpeta 'git' creada en: c:\\Users\\takes\\Documents\\SaludDigitalBE_1\\git\n",
      "✅ Carpeta 'scripts' creada en: c:\\Users\\takes\\Documents\\SaludDigitalBE_1\\scripts\n"
     ]
    }
   ],
   "source": [
    "from pathlib import Path\n",
    "\n",
    "# Lista de carpetas a crear\n",
    "carpetas = [\"data\", \"database\", \"reports\", \"ci\", \"git\", \"scripts\"]\n",
    "\n",
    "# Crear cada carpeta si no existe\n",
    "for carpeta in carpetas:\n",
    "    ruta = Path.cwd().parent / carpeta\n",
    "    ruta.mkdir(parents=True, exist_ok=True)\n",
    "    print(f\"✅ Carpeta '{carpeta}' creada en: {ruta}\")"
   ]
  }
 ],
 "metadata": {
  "kernelspec": {
   "display_name": "myenv (3.13.7)",
   "language": "python",
   "name": "python3"
  },
  "language_info": {
   "codemirror_mode": {
    "name": "ipython",
    "version": 3
   },
   "file_extension": ".py",
   "mimetype": "text/x-python",
   "name": "python",
   "nbconvert_exporter": "python",
   "pygments_lexer": "ipython3",
   "version": "3.13.7"
  }
 },
 "nbformat": 4,
 "nbformat_minor": 5
}
