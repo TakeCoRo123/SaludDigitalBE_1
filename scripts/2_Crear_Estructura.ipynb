{
 "cells": [
  {
   "cell_type": "markdown",
   "id": "5289bc40",
   "metadata": {},
   "source": [
    "## Creacion de la estructura"
   ]
  },
  {
   "cell_type": "code",
   "execution_count": 1,
   "id": "cfcc61ec",
   "metadata": {},
   "outputs": [
    {
     "name": "stdout",
     "output_type": "stream",
     "text": [
      "✅ Archivo base.csv creado en: c:\\Users\\takes\\Documents\\SaludDigitalBE_1\\data\\base.csv\n"
     ]
    }
   ],
   "source": [
    "from pathlib import Path\n",
    "\n",
    "# Ruta del archivo base.csv\n",
    "archivo = Path.cwd().parent / \"data\" / \"base.csv\"\n",
    "\n",
    "# Crear archivo con encabezados\n",
    "with open(archivo, \"w\", encoding=\"utf-8\") as f:\n",
    "    f.write(\"id_paciente,nombre,edad,sexo,distrito,servicio,fecha_atencion,monto\\n\")\n",
    "\n",
    "print(f\"✅ Archivo base.csv creado en: {archivo}\")\n"
   ]
  }
 ],
 "metadata": {
  "kernelspec": {
   "display_name": "myenv (3.13.7)",
   "language": "python",
   "name": "python3"
  },
  "language_info": {
   "codemirror_mode": {
    "name": "ipython",
    "version": 3
   },
   "file_extension": ".py",
   "mimetype": "text/x-python",
   "name": "python",
   "nbconvert_exporter": "python",
   "pygments_lexer": "ipython3",
   "version": "3.13.7"
  }
 },
 "nbformat": 4,
 "nbformat_minor": 5
}
