{
 "cells": [
  {
   "cell_type": "markdown",
   "id": "3cffc324",
   "metadata": {},
   "source": [
    "## Carga en MongoDB"
   ]
  },
  {
   "cell_type": "code",
   "execution_count": 1,
   "id": "e5cbe5b8",
   "metadata": {},
   "outputs": [
    {
     "name": "stdout",
     "output_type": "stream",
     "text": [
      "✅ Datos insertados correctamente en MongoDB.\n",
      "🔍 Total de documentos: 711\n"
     ]
    }
   ],
   "source": [
    "import pandas as pd\n",
    "from pymongo import MongoClient\n",
    "from pathlib import Path\n",
    "\n",
    "# Leer archivo limpio\n",
    "df = pd.read_csv(Path.cwd().parent / \"database\" / \"pacientes_clean.csv\")\n",
    "\n",
    "# Conectar a MongoDB local\n",
    "client = MongoClient(\"mongodb://localhost:27017/\")\n",
    "db = client[\"SaludDigital_2025\"]\n",
    "collection = db[\"pacientes\"]\n",
    "\n",
    "# Insertar registros\n",
    "collection.insert_many(df.to_dict(orient=\"records\"))\n",
    "print(\"✅ Datos insertados correctamente en MongoDB.\")\n",
    "\n",
    "# Validar inserción\n",
    "print(\"🔍 Total de documentos:\", collection.count_documents({}))\n"
   ]
  }
 ],
 "metadata": {
  "kernelspec": {
   "display_name": "myenv (3.13.7)",
   "language": "python",
   "name": "python3"
  },
  "language_info": {
   "codemirror_mode": {
    "name": "ipython",
    "version": 3
   },
   "file_extension": ".py",
   "mimetype": "text/x-python",
   "name": "python",
   "nbconvert_exporter": "python",
   "pygments_lexer": "ipython3",
   "version": "3.13.7"
  }
 },
 "nbformat": 4,
 "nbformat_minor": 5
}
