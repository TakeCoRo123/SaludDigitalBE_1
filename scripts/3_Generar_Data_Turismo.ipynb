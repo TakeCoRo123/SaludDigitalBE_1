{
 "cells": [
  {
   "cell_type": "markdown",
   "id": "a14d1e00",
   "metadata": {},
   "source": [
    "## Generación de datos simulados"
   ]
  },
  {
   "cell_type": "code",
   "execution_count": 1,
   "id": "733ddf8b",
   "metadata": {},
   "outputs": [
    {
     "name": "stdout",
     "output_type": "stream",
     "text": [
      "✅ Archivo pacientes.csv generado con 3000 registros.\n"
     ]
    }
   ],
   "source": [
    "import csv, random\n",
    "from datetime import datetime, timedelta\n",
    "from pathlib import Path\n",
    "\n",
    "# Listas de valores simulados\n",
    "servicios = [\"Odontología\", \"Pediatría\", \"Cardiología\", \"Medicina General\", \"NA\", \"\"]\n",
    "sexos = [\"M\", \"F\", \"NA\", \"\"]\n",
    "distritos = [\"Miraflores\", \"Surco\", \"San Borja\", \"La Molina\", \"NA\", \"\"]\n",
    "\n",
    "# Generador de fechas aleatorias\n",
    "def fecha_random():\n",
    "    inicio = datetime(2020, 1, 1)\n",
    "    fin = datetime(2025, 1, 1)\n",
    "    return (inicio + timedelta(days=random.randint(0, (fin - inicio).days))).strftime(\"%Y-%m-%d\")\n",
    "\n",
    "# Generar 3000 registros\n",
    "registros = []\n",
    "for i in range(1, 3001):\n",
    "    registros.append([\n",
    "        f\"P{i:04}\", f\"Paciente{i}\", random.randint(1, 90),\n",
    "        random.choice(sexos), random.choice(distritos),\n",
    "        random.choice(servicios), fecha_random(),\n",
    "        round(random.uniform(50, 500), 2)\n",
    "    ])\n",
    "\n",
    "# Guardar en pacientes.csv\n",
    "archivo = Path.cwd().parent / \"data\" / \"pacientes.csv\"\n",
    "with open(archivo, \"w\", encoding=\"utf-8\", newline=\"\") as f:\n",
    "    writer = csv.writer(f)\n",
    "    writer.writerow([\"id_paciente\", \"nombre\", \"edad\", \"sexo\", \"distrito\", \"servicio\", \"fecha_atencion\", \"monto\"])\n",
    "    writer.writerows(registros)\n",
    "\n",
    "print(f\"✅ Archivo pacientes.csv generado con {len(registros)} registros.\")\n"
   ]
  }
 ],
 "metadata": {
  "kernelspec": {
   "display_name": "myenv (3.13.7)",
   "language": "python",
   "name": "python3"
  },
  "language_info": {
   "codemirror_mode": {
    "name": "ipython",
    "version": 3
   },
   "file_extension": ".py",
   "mimetype": "text/x-python",
   "name": "python",
   "nbconvert_exporter": "python",
   "pygments_lexer": "ipython3",
   "version": "3.13.7"
  }
 },
 "nbformat": 4,
 "nbformat_minor": 5
}
