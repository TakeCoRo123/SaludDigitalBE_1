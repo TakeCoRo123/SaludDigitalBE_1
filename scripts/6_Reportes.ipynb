{
 "cells": [
  {
   "cell_type": "markdown",
   "id": "4c9c7d17",
   "metadata": {},
   "source": [
    "## Visualización de datos"
   ]
  },
  {
   "cell_type": "code",
   "execution_count": 1,
   "id": "21b0673e",
   "metadata": {},
   "outputs": [
    {
     "name": "stdout",
     "output_type": "stream",
     "text": [
      "✅ Reportes generados correctamente.\n"
     ]
    },
    {
     "data": {
      "text/plain": [
       "<Figure size 640x480 with 0 Axes>"
      ]
     },
     "metadata": {},
     "output_type": "display_data"
    }
   ],
   "source": [
    "import pandas as pd\n",
    "import matplotlib.pyplot as plt\n",
    "from pymongo import MongoClient\n",
    "from pathlib import Path\n",
    "\n",
    "# Conectar a MongoDB\n",
    "client = MongoClient(\"mongodb://localhost:27017/\")\n",
    "db = client[\"SaludDigital_2025\"]\n",
    "collection = db[\"pacientes\"]\n",
    "\n",
    "# Extraer datos\n",
    "df = pd.DataFrame(list(collection.find({}, {\"_id\": 0})))\n",
    "\n",
    "# Crear carpeta de reportes si no existe\n",
    "reports_path = Path.cwd().parent / \"reports\"\n",
    "reports_path.mkdir(parents=True, exist_ok=True)\n",
    "\n",
    "# 1️⃣ Gráfico de barras: pacientes por servicio\n",
    "df[\"servicio\"].value_counts().plot(kind=\"bar\", title=\"Pacientes por Servicio\")\n",
    "plt.tight_layout()\n",
    "plt.savefig(reports_path / \"pacientes_atendidos_por_servicio.png\")\n",
    "plt.clf()\n",
    "\n",
    "# 2️⃣ Gráfico circular: distribución por sexo\n",
    "df[\"sexo\"].value_counts().plot(kind=\"pie\", autopct=\"%1.1f%%\", title=\"Distribución por Sexo\")\n",
    "plt.tight_layout()\n",
    "plt.savefig(reports_path / \"distribución_por_sexo.png\")\n",
    "plt.clf()\n",
    "\n",
    "# 3️⃣ Histograma: distribución de edades\n",
    "df[\"edad\"].plot(kind=\"hist\", bins=10, title=\"Distribución de Edades\")\n",
    "plt.tight_layout()\n",
    "plt.savefig(reports_path / \"distribución_de_edades.png\")\n",
    "plt.clf()\n",
    "\n",
    "# 4️⃣ Promedio de montos por distrito (reporte tabular)\n",
    "promedio = df.groupby(\"distrito\")[\"monto\"].mean().sort_values(ascending=False)\n",
    "promedio.to_csv(reports_path / \"promedio_de_montos_por_distrito.csv\")\n",
    "\n",
    "print(\"✅ Reportes generados correctamente.\")\n"
   ]
  }
 ],
 "metadata": {
  "kernelspec": {
   "display_name": "myenv (3.13.7)",
   "language": "python",
   "name": "python3"
  },
  "language_info": {
   "codemirror_mode": {
    "name": "ipython",
    "version": 3
   },
   "file_extension": ".py",
   "mimetype": "text/x-python",
   "name": "python",
   "nbconvert_exporter": "python",
   "pygments_lexer": "ipython3",
   "version": "3.13.7"
  }
 },
 "nbformat": 4,
 "nbformat_minor": 5
}
