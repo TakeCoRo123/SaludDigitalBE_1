{
 "cells": [
  {
   "cell_type": "markdown",
   "id": "d5aee78c",
   "metadata": {},
   "source": [
    "## Proceso ETL"
   ]
  },
  {
   "cell_type": "code",
   "execution_count": 2,
   "id": "1e7b6ece",
   "metadata": {},
   "outputs": [
    {
     "name": "stdout",
     "output_type": "stream",
     "text": [
      "✅ Archivo limpio guardado en: c:\\Users\\takes\\Documents\\SaludDigitalBE_1\\database\\pacientes_clean.csv\n"
     ]
    }
   ],
   "source": [
    "import pandas as pd\n",
    "from pathlib import Path\n",
    "\n",
    "# Rutas\n",
    "data_path = Path.cwd().parent / \"data\" / \"pacientes.csv\"\n",
    "clean_path = Path.cwd().parent / \"database\" / \"pacientes_clean.csv\"\n",
    "\n",
    "# Leer archivo original\n",
    "df = pd.read_csv(data_path)\n",
    "\n",
    "# Reemplazar valores nulos o inconsistentes\n",
    "df[\"sexo\"] = df[\"sexo\"].replace([\"NA\", \"\"], \"F\")\n",
    "df[\"servicio\"] = df[\"servicio\"].replace([\"NA\", \"\"], \"Medicina General\")\n",
    "df[\"distrito\"] = df[\"distrito\"].replace([\"NA\", \"\"], \"Desconocido\")\n",
    "\n",
    "# Validar fechas\n",
    "df[\"fecha_atencion\"] = pd.to_datetime(df[\"fecha_atencion\"], errors=\"coerce\")\n",
    "\n",
    "# Eliminar duplicados y nulos\n",
    "df.drop_duplicates(inplace=True)\n",
    "df.dropna(inplace=True)\n",
    "\n",
    "# Guardar archivo limpio\n",
    "df.to_csv(clean_path, index=False)\n",
    "print(f\"✅ Archivo limpio guardado en: {clean_path}\")\n"
   ]
  }
 ],
 "metadata": {
  "kernelspec": {
   "display_name": "myenv (3.13.7)",
   "language": "python",
   "name": "python3"
  },
  "language_info": {
   "codemirror_mode": {
    "name": "ipython",
    "version": 3
   },
   "file_extension": ".py",
   "mimetype": "text/x-python",
   "name": "python",
   "nbconvert_exporter": "python",
   "pygments_lexer": "ipython3",
   "version": "3.13.7"
  }
 },
 "nbformat": 4,
 "nbformat_minor": 5
}
